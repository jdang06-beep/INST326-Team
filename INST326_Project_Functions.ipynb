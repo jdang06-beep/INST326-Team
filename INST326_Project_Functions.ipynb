{
  "nbformat": 4,
  "nbformat_minor": 0,
  "metadata": {
    "colab": {
      "provenance": [],
      "include_colab_link": true
    },
    "kernelspec": {
      "name": "python3",
      "display_name": "Python 3"
    },
    "language_info": {
      "name": "python"
    }
  },
  "cells": [
    {
      "cell_type": "markdown",
      "metadata": {
        "id": "view-in-github",
        "colab_type": "text"
      },
      "source": [
        "<a href=\"https://colab.research.google.com/github/jdang06-beep/INST326-Team/blob/main/INST326_Project_Functions.ipynb\" target=\"_parent\"><img src=\"https://colab.research.google.com/assets/colab-badge.svg\" alt=\"Open In Colab\"/></a>"
      ]
    },
    {
      "cell_type": "code",
      "execution_count": null,
      "metadata": {
        "id": "RpPZg8W0FDjv"
      },
      "outputs": [],
      "source": [
        "#Lateef\n",
        "# Most reviewed items\n",
        "# highlights the media items with the most reviews\n",
        "from collections import Counter\n",
        "\n",
        "reviews = [\n",
        "    {\"title\": \"The Conjuring\", \"content\": \"Terrifying and well-directed.\", \"genre\": \"Horror\", \"rating\": 4.7},\n",
        "    {\"title\": \"Mission Impossible\", \"content\": \"High energy and intense action!\", \"genre\": \"Action\", \"rating\": 4.3},\n",
        "    {\"title\": \"Gone Girl\", \"content\": \"Dark, clever, and suspenseful.\", \"genre\": \"Thriller\", \"rating\": 4.6},\n",
        "    {\"title\": \"Insidious\", \"content\": \"Creepy atmosphere and great scares.\", \"genre\": \"Horror\", \"rating\": 4.5},\n",
        "    {\"title\": \"The Conjuring\", \"content\": \"Still gives me chills!\", \"genre\": \"Horror\", \"rating\": 4.8},\n",
        "    {\"title\": \"Gone Girl\", \"content\": \"Amazing plot twist!\", \"genre\": \"Thriller\", \"rating\": 4.7},\n",
        "]\n",
        "#Finds and returns the most-reviewed media items using Counter\n",
        "def get_most_reviewed_items(reviews):\n",
        "    title_counts = Counter([r['title'] for r in reviews])\n",
        "    max_count = max(title_counts.values())\n",
        "    most_reviewed_titles = [title for title, count in title_counts.items() if count == max_count]\n",
        "    return [r for r in reviews if r['title'] in most_reviewed_titles]\n",
        "\n",
        "most_reviewed_items = get_most_reviewed_items(reviews)\n",
        "\n",
        "# Search by reviewer: see all reviews written by a particular user.\n",
        "reviews = [\n",
        "    {\"title\": \"The Conjuring\", \"content\": \"Terrifying and well-directed.\", \"genre\": \"Horror\", \"rating\": 4.7, \"reviewer\": \"Mia\"},\n",
        "    {\"title\": \"Mission Impossible\", \"content\": \"High energy and intense action!\", \"genre\": \"Action\", \"rating\": 4.3, \"reviewer\": \"Ethan\"},\n",
        "    {\"title\": \"Gone Girl\", \"content\": \"Dark, clever, and suspenseful.\", \"genre\": \"Thriller\", \"rating\": 4.6, \"reviewer\": \"Liam\"},\n",
        "    {\"title\": \"Insidious\", \"content\": \"Creepy atmosphere and great scares.\", \"genre\": \"Horror\", \"rating\": 4.5, \"reviewer\": \"Ava\"},\n",
        "    {\"title\": \"The Conjuring\", \"content\": \"Still gives me chills!\", \"genre\": \"Horror\", \"rating\": 4.8, \"reviewer\": \"Noah\"},\n",
        "    {\"title\": \"Gone Girl\", \"content\": \"Amazing plot twist!\", \"genre\": \"Thriller\", \"rating\": 4.7, \"reviewer\": \"Sophia\"},\n",
        "]\n",
        "\n",
        "def search_by_reviewer(reviews, reviewer_name):\n",
        "    return [r for r in reviews if r['reviewer'].lower() == reviewer_name.lower()]\n",
        "\n",
        "mia_reviews = search_by_reviewer(reviews, \"Mia\")\n",
        "\n",
        "# Tag-based categorization: allow reviews to have tags like “funny,” “slow-paced,” “family-friendly,” and filter by them.\n",
        "reviews = [\n",
        "    {\"title\": \"The Conjuring\", \"content\": \"Terrifying and well-directed.\", \"genre\": \"Horror\", \"rating\": 4.7, \"tags\": [\"scary\", \"intense\"]},\n",
        "    {\"title\": \"Mission Impossible\", \"content\": \"High energy and intense action!\", \"genre\": \"Action\", \"rating\": 4.3, \"tags\": [\"fast-paced\", \"thrilling\"]},\n",
        "    {\"title\": \"Gone Girl\", \"content\": \"Dark, clever, and suspenseful.\", \"genre\": \"Thriller\", \"rating\": 4.6, \"tags\": [\"mystery\", \"slow-paced\"]},\n",
        "    {\"title\": \"Insidious\", \"content\": \"Creepy atmosphere and great scares.\", \"genre\": \"Horror\", \"rating\": 4.5, \"tags\": [\"scary\", \"family-unfriendly\"]},\n",
        "    {\"title\": \"The Conjuring\", \"content\": \"Still gives me chills!\", \"genre\": \"Horror\", \"rating\": 4.8, \"tags\": [\"creepy\", \"suspenseful\"]},\n",
        "    {\"title\": \"Paddington 2\", \"content\": \"Heartwarming and funny!\", \"genre\": \"Family\", \"rating\": 4.9, \"tags\": [\"funny\", \"family-friendly\"]},\n",
        "]\n",
        "\n",
        "def filter_by_tag(reviews, tag):\n",
        "    return [r for r in reviews if tag.lower() in [t.lower() for t in r['tags']]]\n",
        "\n",
        "family_friendly_reviews = filter_by_tag(reviews, \"family-friendly\")\n",
        "\n",
        "\n",
        "#\n",
        "\n",
        "\n",
        "\n",
        "\n",
        "\n",
        "\n",
        "\n",
        "\n",
        "\n",
        "\n",
        "\n",
        "\n",
        "\n",
        "\n",
        "\n",
        "\n"
      ]
    },
    {
      "cell_type": "code",
      "source": [],
      "metadata": {
        "id": "8GHwB2qtadwf"
      },
      "execution_count": null,
      "outputs": []
    },
    {
      "cell_type": "code",
      "source": [
        "# Jolina\n",
        "reviews = [\n",
        "    {\"title\": \"The Conjuring\", \"content\": \"Terrifying and well-directed.\", \"genre\": \"Horror\", \"rating\": 4.7},\n",
        "    {\"title\": \"Mission Impossible\", \"content\": \"High energy and intense action!\", \"genre\": \"Action\", \"rating\": 4.3},\n",
        "    {\"title\": \"Gone Girl\", \"content\": \"Dark, clever, and suspenseful.\", \"genre\": \"Thriller\", \"rating\": 4.6},\n",
        "    {\"title\": \"Insidious\", \"content\": \"Creepy atmosphere and great scares.\", \"genre\": \"Horror\", \"rating\": 4.5},\n",
        "]\n",
        "\n",
        "\n",
        "def categorize_reviews_by_genre(reviews):\n",
        "# takes a list of review dictionaries and groups them by genre. each review should have a 'genre' key. returns a dictionary where each key is a different genre and the values are reviews.\n",
        "  categorized = {}\n",
        "\n",
        "  for review in reviews:\n",
        "    genre = review['genre'].lower()\n",
        "    if genre not in categorized:\n",
        "      categorized[genre] = []\n",
        "    categorized[genre].append(review)\n",
        "\n",
        "  return categorized\n",
        "\n",
        "grouped_reviews = categorize_reviews_by_genre(reviews)\n",
        "\n"
      ],
      "metadata": {
        "id": "C63gMYeOGNsM"
      },
      "execution_count": null,
      "outputs": []
    },
    {
      "cell_type": "code",
      "source": [
        "# Heaven\n",
        "ratings = {\"Movie1\": [5,4,2] , \"Song1\": [2, 4], \"Movie3\":[]}\n",
        "saved_reviews = []\n",
        "\n",
        "def calc_avg(ratings, media_name): #calculates average rating of the specific media\n",
        "# checking if the media name exists in our dictionary\n",
        "  if media_name not in ratings:\n",
        "    return f'{media_name} not found in database'\n",
        "  media_ratings = ratings[media_name]\n",
        "# checking for media names that exisist but don't currently have any ratings\n",
        "  if not media_ratings:\n",
        "    return f'No ratings available for {media_name}'\n",
        "# calculate the avg rating\n",
        "  avg = sum(media_ratings)/len(media_ratings)\n",
        "  return f'The average rating for {media_name} is {round(avg, 2)}'\n",
        "\n",
        "\n",
        "def save_review(saved_reviews, save_decision): #allows user to save reviews into a list for them to view later\n",
        "\n",
        "\n",
        "ask_for_rating = input(\"Which media's ratings would you like to see?: \")\n",
        "print(calc_avg(ratings, ask_for_rating))\n",
        "save_decision = input(\"Would you like to save this review?: \")"
      ],
      "metadata": {
        "id": "VxlrHgdIGa2S",
        "colab": {
          "base_uri": "https://localhost:8080/"
        },
        "outputId": "f4ae0781-8293-4746-b21a-465419f5d373"
      },
      "execution_count": null,
      "outputs": [
        {
          "output_type": "stream",
          "name": "stdout",
          "text": [
            "Which media's ratings would you like to see?: Movie1\n",
            "The average rating for Movie1 is 3.67\n"
          ]
        }
      ]
    },
    {
      "cell_type": "code",
      "source": [
        "#Eliab\n",
        "def similar(name, rating, top_n=3):\n",
        "    score = []\n",
        "    for i, r in enumerate(rating):\n",
        "        if i == name:\n",
        "            continue\n",
        "        score = 0\n",
        "        for a, b in zip(rating[name], r):\n",
        "            if a and b:\n",
        "                score += 1.0 / (1 + abs(a - b))\n",
        "        score.append((i, score))\n",
        "    score.sort(key=lambda x: x[1], reverse=True)\n",
        "    return [i for i, s in score[:top_n]]\n",
        "    askrating(input(\"What is the rating\"))\n",
        "    asknameofitem(input()\"\"))"
      ],
      "metadata": {
        "id": "gs1s-B33TfdI"
      },
      "execution_count": null,
      "outputs": []
    }
  ]
}